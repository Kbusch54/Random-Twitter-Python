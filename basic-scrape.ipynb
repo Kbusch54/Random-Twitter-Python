{
 "cells": [
  {
   "cell_type": "code",
   "execution_count": null,
   "metadata": {},
   "outputs": [
    {
     "ename": "",
     "evalue": "",
     "output_type": "error",
     "traceback": [
      "\u001b[1;31mRunning cells with '.venv' requires the ipykernel package.\n",
      "\u001b[1;31mRun the following command to install 'ipykernel' into the Python environment. \n",
      "\u001b[1;31mCommand: 'c:/Users/Admin/Documents/twitter2/.venv/Scripts/python.exe -m pip install ipykernel -U --force-reinstall'"
     ]
    }
   ],
   "source": [
    "import requests\n",
    "from bs4 import BeautifulSoup\n",
    "\n",
    "# Make a GET request to the webpage\n",
    "response = requests.get('https://twitter.com/tarunchitra/following')\n",
    "\n",
    "# Create a BeautifulSoup object to parse the HTML\n",
    "soup = BeautifulSoup(response.text, 'html.parser')\n",
    "\n",
    "# Find the elements containing the account names and the users they follow\n",
    "account_names = soup.find_all('span', class_='css-901oao css-16my406 r-poiln3 r-bcqeeo r-qvutc0')\n",
    "# followed_users = soup.find_all('div', class_='followed-user')\n",
    "\n",
    "# Extract the data from the elements\n",
    "account_names_list = [name.text for name in account_names]\n",
    "# followed_users_list = [user.text for user in followed_users]\n",
    "\n",
    "# Store the data or perform further processing\n",
    "# For example, you can save the data to a file or store it in a database\n",
    "print(account_names_list)"
   ]
  }
 ],
 "metadata": {
  "kernelspec": {
   "display_name": "Python 3",
   "language": "python",
   "name": "python3"
  },
  "language_info": {
   "name": "python",
   "version": "3.11.4"
  },
  "orig_nbformat": 4
 },
 "nbformat": 4,
 "nbformat_minor": 2
}
